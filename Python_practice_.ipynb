{
  "nbformat": 4,
  "nbformat_minor": 0,
  "metadata": {
    "colab": {
      "provenance": [],
      "authorship_tag": "ABX9TyO4M2auTvxYVpNg4A/reQUS",
      "include_colab_link": true
    },
    "kernelspec": {
      "name": "python3",
      "display_name": "Python 3"
    },
    "language_info": {
      "name": "python"
    }
  },
  "cells": [
    {
      "cell_type": "markdown",
      "metadata": {
        "id": "view-in-github",
        "colab_type": "text"
      },
      "source": [
        "<a href=\"https://colab.research.google.com/github/prajwal-mv/Python_Practice/blob/main/Python_practice_.ipynb\" target=\"_parent\"><img src=\"https://colab.research.google.com/assets/colab-badge.svg\" alt=\"Open In Colab\"/></a>"
      ]
    },
    {
      "cell_type": "code",
      "execution_count": null,
      "metadata": {
        "id": "uvtsSrIj_jJP",
        "colab": {
          "base_uri": "https://localhost:8080/"
        },
        "outputId": "a4a08768-5a25-4344-816a-afb599f41101"
      },
      "outputs": [
        {
          "output_type": "stream",
          "name": "stdout",
          "text": [
            "1\n",
            "[2]\n"
          ]
        }
      ],
      "source": [
        "swnum=int(input())\n",
        "lst=[]\n",
        "for i in range(10*(num-1),10*num):\n",
        "    s=str(i)\n",
        "    if(s[0]=='2' or s[-1]=='2'): \n",
        "        lst.append(i)\n",
        "print(lst)"
      ]
    },
    {
      "cell_type": "code",
      "source": [],
      "metadata": {
        "id": "S_jaWyrQxz6W"
      },
      "execution_count": null,
      "outputs": []
    },
    {
      "cell_type": "code",
      "source": [],
      "metadata": {
        "id": "f92b-npvxz9J"
      },
      "execution_count": null,
      "outputs": []
    },
    {
      "cell_type": "markdown",
      "source": [
        "Print first and last name in reverse order with a space between them"
      ],
      "metadata": {
        "id": "cpsup-PE_nC9"
      }
    },
    {
      "cell_type": "code",
      "source": [
        "f_name = 'Prajwal'\n",
        "last_name = 'MV'\n",
        "full_rname =last_name+' '+ f_name"
      ],
      "metadata": {
        "id": "yI-SD6Iy_qkE"
      },
      "execution_count": null,
      "outputs": []
    },
    {
      "cell_type": "code",
      "source": [
        "print(full_rname)"
      ],
      "metadata": {
        "colab": {
          "base_uri": "https://localhost:8080/"
        },
        "id": "WDZl9bS8_7v8",
        "outputId": "86360bf7-a4fd-4b24-f0b9-cd6bb93e8f1d"
      },
      "execution_count": null,
      "outputs": [
        {
          "output_type": "stream",
          "name": "stdout",
          "text": [
            "MV Prajwal\n"
          ]
        }
      ]
    },
    {
      "cell_type": "code",
      "source": [
        "# Python program which accepts a sequence of comma-separated numbers from user and generate a list and a tuple with those numbers.\n",
        "\n",
        "values = input(\"Input some comma seprated numbers : \")\n",
        "list = values.split(\",\")\n",
        "tuple = tuple(list)\n",
        "print('List : ',list)\n",
        "print('Tuple : ',tuple)"
      ],
      "metadata": {
        "colab": {
          "base_uri": "https://localhost:8080/"
        },
        "id": "GDov-bsp_-xv",
        "outputId": "5375106c-c200-4009-c7fb-67f9a63883a6"
      },
      "execution_count": null,
      "outputs": [
        {
          "output_type": "stream",
          "name": "stdout",
          "text": [
            "Input some comma seprated numbers : 3,5,4,5,5\n",
            "List :  ['3', '5', '4', '5', '5']\n",
            "Tuple :  ('3', '5', '4', '5', '5')\n"
          ]
        }
      ]
    },
    {
      "cell_type": "code",
      "source": [
        "# first and last colour\n",
        "\n",
        "color_list = [\"Red\",\"Green\",\"White\" ,\"Black\"]\n",
        "print(color_list[0],color_list[-1])"
      ],
      "metadata": {
        "colab": {
          "base_uri": "https://localhost:8080/"
        },
        "id": "pn9-Gt4EA1PE",
        "outputId": "d8970b42-9f54-40d7-ebc1-db8de5c99e42"
      },
      "execution_count": null,
      "outputs": [
        {
          "output_type": "stream",
          "name": "stdout",
          "text": [
            "Red Black\n"
          ]
        }
      ]
    },
    {
      "cell_type": "code",
      "source": [
        "# exam date\n",
        "exam_st_date = (11,2,2014)\n",
        "print( \"The examination will start from : %i / %i / %i\"%exam_st_date)"
      ],
      "metadata": {
        "colab": {
          "base_uri": "https://localhost:8080/"
        },
        "id": "8W9h0TWtBN4K",
        "outputId": "dfafc05c-58cf-4992-cb25-c2f3bd75c929"
      },
      "execution_count": null,
      "outputs": [
        {
          "output_type": "stream",
          "name": "stdout",
          "text": [
            "The examination will start from : 11 / 2 / 2014\n"
          ]
        }
      ]
    },
    {
      "cell_type": "code",
      "source": [
        "#calender\n",
        "import calendar\n",
        "y = int(input(\"Input the year : \"))\n",
        "m = int(input(\"Input the month : \"))\n",
        "print(calendar.month(y, m))"
      ],
      "metadata": {
        "colab": {
          "base_uri": "https://localhost:8080/"
        },
        "id": "ek4m_WHTBg9v",
        "outputId": "00c0f95a-b4ed-41bb-b838-59bb39766e8b"
      },
      "execution_count": null,
      "outputs": [
        {
          "output_type": "stream",
          "name": "stdout",
          "text": [
            "Input the year : 2022\n",
            "Input the month : 11\n",
            "   November 2022\n",
            "Mo Tu We Th Fr Sa Su\n",
            "    1  2  3  4  5  6\n",
            " 7  8  9 10 11 12 13\n",
            "14 15 16 17 18 19 20\n",
            "21 22 23 24 25 26 27\n",
            "28 29 30\n",
            "\n"
          ]
        }
      ]
    },
    {
      "cell_type": "code",
      "source": [
        "# date\n",
        "from datetime import date\n",
        "f_date = date(2014, 7, 2)\n",
        "l_date = date(2014, 7, 11)\n",
        "delta = l_date - f_date\n",
        "print(delta.days)"
      ],
      "metadata": {
        "colab": {
          "base_uri": "https://localhost:8080/"
        },
        "id": "Eb2-3uC6B4RF",
        "outputId": "3d136271-a237-4732-e330-ad19558c42fc"
      },
      "execution_count": null,
      "outputs": [
        {
          "output_type": "stream",
          "name": "stdout",
          "text": [
            "9\n"
          ]
        }
      ]
    },
    {
      "cell_type": "code",
      "source": [
        "# sphere\n",
        "pi = 3.1415926535897931\n",
        "r= 6.0\n",
        "V= 4.0/3.0*pi* r**3\n",
        "print('The volume of the sphere is: ',V)"
      ],
      "metadata": {
        "colab": {
          "base_uri": "https://localhost:8080/"
        },
        "id": "ri2cr6lwCqW5",
        "outputId": "8fb2254a-bd54-4709-83ff-ff1eddf9fa74"
      },
      "execution_count": null,
      "outputs": [
        {
          "output_type": "stream",
          "name": "stdout",
          "text": [
            "The volume of the sphere is:  904.7786842338603\n"
          ]
        }
      ]
    },
    {
      "cell_type": "code",
      "source": [
        "#Write a Python program to get the difference between a given number and 17, if the number is greater than 17 return double the absolute difference.\n",
        "\n",
        "n = int(input())\n",
        "if n > 17:\n",
        "  m = abs(n-17)*2\n",
        "  print(m)\n",
        "else:\n",
        "  k =abs(n-17)\n",
        "  print(k)"
      ],
      "metadata": {
        "colab": {
          "base_uri": "https://localhost:8080/"
        },
        "id": "p6uhmMN5C24c",
        "outputId": "a2658c98-f340-4d1f-bb31-a61afbf7d774"
      },
      "execution_count": null,
      "outputs": [
        {
          "output_type": "stream",
          "name": "stdout",
          "text": [
            "81\n",
            "128\n"
          ]
        }
      ]
    },
    {
      "cell_type": "code",
      "source": [
        "#Fibonacci\n",
        "\n",
        "x,y=0,1\n",
        "\t\n",
        "while y<50:\n",
        "\tprint(y)\n",
        "\tx,y = y,x+y\n"
      ],
      "metadata": {
        "id": "0BARjKXSDmsi",
        "colab": {
          "base_uri": "https://localhost:8080/"
        },
        "outputId": "e11cf0ef-dff6-40e1-a9b1-ed4dde63e3d6"
      },
      "execution_count": null,
      "outputs": [
        {
          "output_type": "stream",
          "name": "stdout",
          "text": [
            "1\n",
            "1\n",
            "2\n",
            "3\n",
            "5\n",
            "8\n",
            "13\n",
            "21\n",
            "34\n"
          ]
        }
      ]
    },
    {
      "cell_type": "code",
      "source": [
        "#reversed num\n",
        "num = int(input())\n",
        "reversed_num = 0\n",
        "print(num)\n",
        "while num != 0:\n",
        "    digit = num % 10\n",
        "    print('digit',digit)\n",
        "    reversed_num = reversed_num * 10 + digit\n",
        "    print('reversed_num',reversed_num)\n",
        "    num //= 10\n",
        "    print('num',num)\n",
        "print(\"Reversed Number: \" + str(reversed_num))"
      ],
      "metadata": {
        "colab": {
          "base_uri": "https://localhost:8080/"
        },
        "id": "buU5BBDG03rv",
        "outputId": "5a5b2c83-0b18-4381-8284-4f10be0b6291"
      },
      "execution_count": null,
      "outputs": [
        {
          "output_type": "stream",
          "name": "stdout",
          "text": [
            "123\n",
            "digit 3\n",
            "reversed_num 3\n",
            "num 12\n",
            "digit 2\n",
            "reversed_num 32\n",
            "num 1\n",
            "digit 1\n",
            "reversed_num 321\n",
            "num 0\n",
            "Reversed Number: 321\n"
          ]
        }
      ]
    },
    {
      "cell_type": "code",
      "source": [
        "12//10"
      ],
      "metadata": {
        "colab": {
          "base_uri": "https://localhost:8080/"
        },
        "id": "rnrzZqLQN2fS",
        "outputId": "177210ee-d657-481f-fd1a-2196a4f0c2e8"
      },
      "execution_count": null,
      "outputs": [
        {
          "output_type": "execute_result",
          "data": {
            "text/plain": [
              "1"
            ]
          },
          "metadata": {},
          "execution_count": 42
        }
      ]
    },
    {
      "cell_type": "code",
      "source": [
        "# amstrong\n",
        "#1^3+5^3+3^3 = 153\n",
        "\n",
        "n = int(input(\"Enter a number: \"))  \n",
        "sum = 0  \n",
        "tem = n\n",
        "  \n",
        "while tem > 0:  \n",
        "   digit = tem % 10  \n",
        "   sum += digit ** 3  \n",
        "   tem =tem // 10  \n",
        "  \n",
        "if n == sum:  \n",
        "   print(n,\"Yes, it is an  Armstrong number\")  \n",
        "else:  \n",
        "   print(n,\"No, it isn't an Armstrong number\")\n",
        " "
      ],
      "metadata": {
        "colab": {
          "base_uri": "https://localhost:8080/"
        },
        "id": "0LKkzmIw2n6H",
        "outputId": "9bc7d046-11f8-4920-8a57-78e50a4d7226"
      },
      "execution_count": null,
      "outputs": [
        {
          "output_type": "stream",
          "name": "stdout",
          "text": [
            "Enter a number: 153\n",
            "153 Yes, it is an  Armstrong number\n"
          ]
        }
      ]
    },
    {
      "cell_type": "code",
      "source": [
        "1 %10"
      ],
      "metadata": {
        "colab": {
          "base_uri": "https://localhost:8080/"
        },
        "id": "QZT5s0qQMPPU",
        "outputId": "c60975d3-222f-41f3-8ba6-a66e025cb715"
      },
      "execution_count": null,
      "outputs": [
        {
          "output_type": "execute_result",
          "data": {
            "text/plain": [
              "1"
            ]
          },
          "metadata": {},
          "execution_count": 39
        }
      ]
    },
    {
      "cell_type": "code",
      "source": [
        "#zeros \n",
        "class Solution:\n",
        "   def solve(self, L):\n",
        "      if len(L) == 0:\n",
        "         return []\n",
        "         k = 0\n",
        "         for i in range(len(L)):\n",
        "            if L[i] != 0:\n",
        "               L[k] = L[i]\n",
        "               k+=1\n",
        "         for j in range(k,len(L)):\n",
        "            L[j] = 0\n",
        "         return L\n",
        "ob = Solution()\n",
        "L = [2,0,1,4,0,5,6,4,0,1,7]\n",
        "print(ob.solve(L))"
      ],
      "metadata": {
        "colab": {
          "base_uri": "https://localhost:8080/"
        },
        "id": "pk_BiMZe2w5o",
        "outputId": "daf9d338-4c0b-4092-fcd4-eae2cdd21593"
      },
      "execution_count": null,
      "outputs": [
        {
          "output_type": "stream",
          "name": "stdout",
          "text": [
            "None\n"
          ]
        }
      ]
    },
    {
      "cell_type": "code",
      "source": [
        "lst =[0,1,0,1,0]\n",
        "nl=[]\n",
        "for i in lst:\n",
        "   if i == 0:\n",
        "     nl.append(i)\n",
        "print(nl)"
      ],
      "metadata": {
        "colab": {
          "base_uri": "https://localhost:8080/"
        },
        "id": "xra-yPMbIXIS",
        "outputId": "edc8e0da-98e7-431b-9a66-0374ef52a042"
      },
      "execution_count": null,
      "outputs": [
        {
          "output_type": "stream",
          "name": "stdout",
          "text": [
            "[0, 0, 0]\n"
          ]
        }
      ]
    },
    {
      "cell_type": "code",
      "source": [
        "#python stars square\n",
        "n =5\n",
        "for i in range(n):#outer loop row\n",
        "  for j in range(n):#inner loop column\n",
        "    print('*',end =' ')\n",
        "  print()"
      ],
      "metadata": {
        "id": "R1FV9CUcIaZN",
        "colab": {
          "base_uri": "https://localhost:8080/"
        },
        "outputId": "d5e0cd76-ee98-4810-9b4d-052b3a4d7ff7"
      },
      "execution_count": null,
      "outputs": [
        {
          "output_type": "stream",
          "name": "stdout",
          "text": [
            "* * * * * \n",
            "* * * * * \n",
            "* * * * * \n",
            "* * * * * \n",
            "* * * * * \n"
          ]
        }
      ]
    },
    {
      "cell_type": "code",
      "source": [
        "# triangle\n",
        "n =5\n",
        "for i in range(n):\n",
        "  for j in range(i+1):\n",
        "     print('*',end =' ')\n",
        "  print() "
      ],
      "metadata": {
        "colab": {
          "base_uri": "https://localhost:8080/"
        },
        "id": "WGaaO84Ow1AC",
        "outputId": "50a13d81-8b17-4fdc-ef43-08554f4fb5f1"
      },
      "execution_count": null,
      "outputs": [
        {
          "output_type": "stream",
          "name": "stdout",
          "text": [
            "* \n",
            "* * \n",
            "* * * \n",
            "* * * * \n",
            "* * * * * \n"
          ]
        }
      ]
    },
    {
      "cell_type": "code",
      "source": [
        "\n",
        "n =5\n",
        "for i in range(n):\n",
        "  for j in range(i-n):\n",
        "     print('*',end =' ')\n",
        "  print() "
      ],
      "metadata": {
        "colab": {
          "base_uri": "https://localhost:8080/"
        },
        "id": "tEowLVj7ybyZ",
        "outputId": "39c1202f-431c-40fe-b2da-3fc07d9b060c"
      },
      "execution_count": null,
      "outputs": [
        {
          "output_type": "stream",
          "name": "stdout",
          "text": [
            "\n",
            "\n",
            "\n",
            "\n",
            "\n"
          ]
        }
      ]
    },
    {
      "cell_type": "code",
      "source": [
        "#decreasing triangle\n",
        "# triangle\n",
        "n =5\n",
        "for i in range(n):\n",
        "  for j in range(i,n):\n",
        "    print('',end='')\n",
        "  for j in range(i+1):\n",
        "    print('*',end='')\n",
        "  print()"
      ],
      "metadata": {
        "colab": {
          "base_uri": "https://localhost:8080/",
          "height": 131
        },
        "id": "GIzlGD6dyxAR",
        "outputId": "8d1e3b65-75ab-4e9c-f1e8-975747777994"
      },
      "execution_count": null,
      "outputs": [
        {
          "output_type": "error",
          "ename": "IndentationError",
          "evalue": "ignored",
          "traceback": [
            "\u001b[0;36m  File \u001b[0;32m\"<ipython-input-47-008af11ea319>\"\u001b[0;36m, line \u001b[0;32m6\u001b[0m\n\u001b[0;31m    print('',end='')\u001b[0m\n\u001b[0m        ^\u001b[0m\n\u001b[0;31mIndentationError\u001b[0m\u001b[0;31m:\u001b[0m expected an indented block\n"
          ]
        }
      ]
    },
    {
      "cell_type": "code",
      "source": [
        "n =5\n",
        "for i in range(n):\n",
        "\n",
        "    for j in range(i+1):\n",
        "      print('',end ='')\n",
        "\n",
        "        for j in range(i,n):\n",
        "            print('*',end ='')\n",
        "\n",
        "    for j in range(i,n):\n",
        "      print('*',end='')\n",
        "\n",
        "    print()\n"
      ],
      "metadata": {
        "colab": {
          "base_uri": "https://localhost:8080/"
        },
        "id": "lgwKv09VzzrN",
        "outputId": "31ad5cd2-d0f2-4cfe-8354-85483184d387"
      },
      "execution_count": null,
      "outputs": [
        {
          "output_type": "stream",
          "name": "stdout",
          "text": [
            "**********\n",
            "********\n",
            "******\n",
            "****\n",
            "**\n"
          ]
        }
      ]
    },
    {
      "cell_type": "code",
      "source": [],
      "metadata": {
        "id": "rfQYX3pu3EOJ"
      },
      "execution_count": null,
      "outputs": []
    },
    {
      "cell_type": "code",
      "source": [],
      "metadata": {
        "id": "W0wXaLH-3UXY"
      },
      "execution_count": null,
      "outputs": []
    },
    {
      "cell_type": "code",
      "source": [
        "#amstrong number using lambda function\n",
        "n=int(input(\"Enter any number: \"))\n",
        "a=list(map(int,str(n)))\n",
        "b=list(map(lambda x:x**3,a))\n",
        "if(sum(b)==n):\n",
        "    print(\"The number is an armstrong number. \")\n",
        "else:\n",
        "    print(\"The number isn't an arsmtrong number. \")"
      ],
      "metadata": {
        "colab": {
          "base_uri": "https://localhost:8080/"
        },
        "id": "UJqYUh8KRfkc",
        "outputId": "c5144676-0dad-4cba-bc96-0e2f3c2b88bf"
      },
      "execution_count": null,
      "outputs": [
        {
          "output_type": "stream",
          "name": "stdout",
          "text": [
            "Enter any number: 153\n",
            "The number is an armstrong number. \n"
          ]
        }
      ]
    },
    {
      "cell_type": "code",
      "source": [
        "n=int(input(\"Enter any number: \"))\n",
        "m = str(n)\n",
        "a=list(map(int,str(n)))\n",
        "print(a)\n",
        "print(type(a))"
      ],
      "metadata": {
        "colab": {
          "base_uri": "https://localhost:8080/"
        },
        "id": "mhinqCMfJ0kl",
        "outputId": "0ae48bca-f664-4711-9420-a6b6ca5c0258"
      },
      "execution_count": null,
      "outputs": [
        {
          "output_type": "stream",
          "name": "stdout",
          "text": [
            "Enter any number: 153\n",
            "[1, 5, 3]\n",
            "<class 'list'>\n"
          ]
        }
      ]
    },
    {
      "cell_type": "code",
      "source": [
        "lst = [i for i in m]\n",
        "print(lst)"
      ],
      "metadata": {
        "colab": {
          "base_uri": "https://localhost:8080/"
        },
        "id": "zeLyVL_YKZuF",
        "outputId": "bac17b52-af15-430f-b31f-6f28c912e1ce"
      },
      "execution_count": null,
      "outputs": [
        {
          "output_type": "stream",
          "name": "stdout",
          "text": [
            "['1', '5', '3']\n"
          ]
        }
      ]
    },
    {
      "cell_type": "code",
      "source": [
        "string=input(\"Enter string:\")\n",
        "vowels=0\n",
        "for i in string:\n",
        "      if(i=='a' or i=='e' or i=='i' or i=='o' or i=='u' or i=='A' or i=='E' or i=='I' or i=='O' or i=='U'):\n",
        "            vowels=vowels+1\n",
        "print(\"Number of vowels are:\")\n",
        "print(vowels)"
      ],
      "metadata": {
        "colab": {
          "base_uri": "https://localhost:8080/"
        },
        "id": "_tNbW3vfHk3C",
        "outputId": "025aa663-3822-43e4-aaba-8dae622df9a5"
      },
      "execution_count": null,
      "outputs": [
        {
          "output_type": "stream",
          "name": "stdout",
          "text": [
            "Enter string:apple\n",
            "Number of vowels are:\n",
            "2\n"
          ]
        }
      ]
    },
    {
      "cell_type": "code",
      "source": [
        "string=input(\"Enter string:\")\n",
        "count=0\n",
        "for i in string:\n",
        "      if(i.islower()):\n",
        "            count=count+1\n",
        "print(\"The number of lowercase characters is:\")\n",
        "print(count)"
      ],
      "metadata": {
        "colab": {
          "base_uri": "https://localhost:8080/"
        },
        "id": "_T4h5fCuIjT2",
        "outputId": "c435c472-75ad-4aa5-f9c1-2510453ba425"
      },
      "execution_count": null,
      "outputs": [
        {
          "output_type": "stream",
          "name": "stdout",
          "text": [
            "Enter string:PraJwaL\n",
            "The number of lowercase characters is:\n",
            "4\n"
          ]
        }
      ]
    },
    {
      "cell_type": "markdown",
      "source": [],
      "metadata": {
        "id": "-67fwHdhIjE9"
      }
    },
    {
      "cell_type": "code",
      "source": [
        "string = input()\n",
        "count = 0\n",
        "for i in string:\n",
        "  if (i.isupper()):\n",
        "    count = count + 1\n",
        "print('the upper case charecters is:', count)"
      ],
      "metadata": {
        "colab": {
          "base_uri": "https://localhost:8080/"
        },
        "id": "i34pKi__Iqen",
        "outputId": "bf0b2023-914a-4104-bb1f-e936145d00f2"
      },
      "execution_count": null,
      "outputs": [
        {
          "output_type": "stream",
          "name": "stdout",
          "text": [
            "Prajwal M V\n",
            "the upper case charecters is: 3\n"
          ]
        }
      ]
    },
    {
      "cell_type": "code",
      "source": [
        "string=input(\"Enter string:\") #occurences times\n",
        "word=input(\"Enter word:\")\n",
        "a=[]\n",
        "count=0\n",
        "a=string.split(\" \")\n",
        "for i in range(0,len(a)):\n",
        "      if(word==a[i]):\n",
        "            count=count+1\n",
        "print(\"Count of the word is:\")\n",
        "print(count)"
      ],
      "metadata": {
        "colab": {
          "base_uri": "https://localhost:8080/"
        },
        "id": "wf5QOEKtJBRM",
        "outputId": "a48d17d3-1773-47a0-e0ae-c416a59ea085"
      },
      "execution_count": null,
      "outputs": [
        {
          "output_type": "stream",
          "name": "stdout",
          "text": [
            "Enter string:i am the best data scientist in this whole world i am the bes tbecause i learn python and sql , ml and maths and my starting package is 18lpa\n",
            "Enter word:i\n",
            "Count of the word is:\n",
            "3\n"
          ]
        }
      ]
    },
    {
      "cell_type": "markdown",
      "source": [
        "word = 'geeks for geeks'\n",
        "print(word.find('for'))\n"
      ],
      "metadata": {
        "id": "WFfqix6137oi"
      }
    },
    {
      "cell_type": "code",
      "source": [
        "word = 'geeks for geeks'\n",
        "print(word.find('for'))\n",
        "\n"
      ],
      "metadata": {
        "colab": {
          "base_uri": "https://localhost:8080/"
        },
        "id": "Bh2iNwDX4Epx",
        "outputId": "12be3620-715f-4405-cfc7-1d233557ab21"
      },
      "execution_count": null,
      "outputs": [
        {
          "output_type": "stream",
          "name": "stdout",
          "text": [
            "6\n"
          ]
        }
      ]
    },
    {
      "cell_type": "code",
      "source": [
        "#prime number \n",
        "n = int(input())\n",
        "for i in range(2,n+1):\n",
        "  if n%2 == 0:\n",
        "    print('not prime')\n",
        "    break\n",
        "else:\n",
        "  print('prime')"
      ],
      "metadata": {
        "colab": {
          "base_uri": "https://localhost:8080/"
        },
        "id": "VzR5nd_d4FQI",
        "outputId": "3c614b16-1cc3-4dda-8712-ac0bdc0e27ed"
      },
      "execution_count": null,
      "outputs": [
        {
          "output_type": "stream",
          "name": "stdout",
          "text": [
            "22\n",
            "not prime\n"
          ]
        }
      ]
    },
    {
      "cell_type": "code",
      "source": [
        "start = int(input())\n",
        "end = int(input())\n",
        "for i in range (start,end+1):\n",
        "  for j in range(2,i):1\n",
        "    if i%j == 0:\n",
        "      break\n",
        "  else:\n",
        "    print(i,end=' ')\n"
      ],
      "metadata": {
        "colab": {
          "base_uri": "https://localhost:8080/"
        },
        "id": "cZD0iOeTFUAI",
        "outputId": "5b07b3dc-329b-4e93-80f1-956296b6f8d2"
      },
      "execution_count": null,
      "outputs": [
        {
          "output_type": "stream",
          "name": "stdout",
          "text": [
            "1\n",
            "10\n",
            "1 2 3 5 7 "
          ]
        }
      ]
    },
    {
      "cell_type": "code",
      "source": [
        "lst = [8,4,46,5,52,50,45,25,15,20,21,47,88,91]\n",
        "l_2 = []\n",
        "l_5 = []\n",
        "n_not_2_5 =[]\n",
        "for i in lst:\n",
        "  if i%2 == 0:\n",
        "    l_2.append(i)\n",
        "  elif i%5 == 0:\n",
        "    l_5.append(i)\n",
        "  else:\n",
        "    n_not_2_5.append(i)\n",
        "print('the number is divisible by 2 ',l_2)\n",
        "print('the number is divisible by 2',l_5)\n",
        "print('the number is not divisible by 2 and 5',n_not_2_5)\n"
      ],
      "metadata": {
        "id": "_lixx3kmH5NU",
        "colab": {
          "base_uri": "https://localhost:8080/"
        },
        "outputId": "b61587f1-cf21-4c64-91d9-b96d71eff5f1"
      },
      "execution_count": null,
      "outputs": [
        {
          "output_type": "stream",
          "name": "stdout",
          "text": [
            "the number is divisible by 2  [8, 4, 46, 52, 50, 20, 88]\n",
            "the number is divisible by 2 [5, 45, 25, 15]\n",
            "the number is not divisible by 2 and 5 [21, 47, 91]\n"
          ]
        }
      ]
    },
    {
      "cell_type": "code",
      "source": [
        "def sum(a,b):\n",
        "  return a+b"
      ],
      "metadata": {
        "id": "wGWWy2U3kiqW"
      },
      "execution_count": null,
      "outputs": []
    },
    {
      "cell_type": "code",
      "source": [
        "x = int(input())\n",
        "y = int(input())\n",
        "print('the total sum is',sum(x,y))"
      ],
      "metadata": {
        "colab": {
          "base_uri": "https://localhost:8080/"
        },
        "id": "GdEkc7f_lat0",
        "outputId": "b91acfd8-c8c8-473c-e0d9-b537f1e99fd6"
      },
      "execution_count": null,
      "outputs": [
        {
          "output_type": "stream",
          "name": "stdout",
          "text": [
            "82\n",
            "88\n",
            "the total sum is 170\n"
          ]
        }
      ]
    },
    {
      "cell_type": "code",
      "source": [
        "a=[]\n",
        "n=int(input(\"Enter number of elements:\"))\n",
        "for i in range(1,n+1):\n",
        "    b=int(input(\"Enter element:\"))\n",
        "    a.append(b)\n",
        "k=0\n",
        "num=int(input(\"Enter the number to be counted:\"))\n",
        "for j in a:\n",
        "    if(j==num):\n",
        "        k=k+1\n",
        "print(\"Number of times\",num,\"appears is\",k)"
      ],
      "metadata": {
        "colab": {
          "base_uri": "https://localhost:8080/"
        },
        "id": "ERhKltRKPyut",
        "outputId": "63914370-8de7-4d19-fd6a-4443d07f3e99"
      },
      "execution_count": null,
      "outputs": [
        {
          "output_type": "stream",
          "name": "stdout",
          "text": [
            "Enter number of elements:2\n",
            "Enter element:25\n",
            "Enter element:26\n",
            "Enter the number to be counted:25\n",
            "Number of times 25 appears is 1\n"
          ]
        }
      ]
    },
    {
      "cell_type": "code",
      "source": [
        "list1 = [10, 21, 4, 45, 66, 93, 1]\n",
        " \n",
        "even_count, odd_count = 0, 0\n",
        " \n",
        "# iterating each number in list\n",
        "for num in list1:\n",
        " \n",
        "    # checking condition\n",
        "    if num % 2 == 0:\n",
        "        even_count += 1\n",
        " \n",
        "    else:\n",
        "        odd_count += 1\n",
        " \n",
        "print(\"Even numbers in the list: \", even_count)\n",
        "print(\"Odd numbers in the list: \", odd_count)"
      ],
      "metadata": {
        "colab": {
          "base_uri": "https://localhost:8080/"
        },
        "id": "Hf4YJpPDP-UI",
        "outputId": "7628bbb5-a576-4197-9795-a7f72e28ae99"
      },
      "execution_count": null,
      "outputs": [
        {
          "output_type": "stream",
          "name": "stdout",
          "text": [
            "Even numbers in the list:  3\n",
            "Odd numbers in the list:  4\n"
          ]
        }
      ]
    },
    {
      "cell_type": "code",
      "source": [
        "list1 = [10, 21, 4, 45, 66, 93, 1]\n",
        "even_count = 0\n",
        "odd_count = 0\n",
        "for i in list1:\n",
        "  if i%2 == 0:\n",
        "    even_count = even_count+1\n",
        "  else:\n",
        "    odd_count = odd_count+1\n",
        "print(even_count)\n",
        "print(odd_count)\n"
      ],
      "metadata": {
        "colab": {
          "base_uri": "https://localhost:8080/"
        },
        "id": "9gHhsgRsQVEg",
        "outputId": "5a1e3be6-52f4-424d-f85e-cb6e2565dad1"
      },
      "execution_count": null,
      "outputs": [
        {
          "output_type": "stream",
          "name": "stdout",
          "text": [
            "3\n",
            "4\n"
          ]
        }
      ]
    },
    {
      "cell_type": "code",
      "source": [
        "name = 'i am data scientist'\n",
        "lst = [i for i in name]\n",
        "print(lst)\n",
        "print( name(max(count)))"
      ],
      "metadata": {
        "colab": {
          "base_uri": "https://localhost:8080/",
          "height": 218
        },
        "id": "B5Ln0d0_TM-e",
        "outputId": "9ebfba88-2406-4eb6-fe68-776f61dcd771"
      },
      "execution_count": null,
      "outputs": [
        {
          "output_type": "stream",
          "name": "stdout",
          "text": [
            "['i', ' ', 'a', 'm', ' ', 'd', 'a', 't', 'a', ' ', 's', 'c', 'i', 'e', 'n', 't', 'i', 's', 't']\n"
          ]
        },
        {
          "output_type": "error",
          "ename": "NameError",
          "evalue": "ignored",
          "traceback": [
            "\u001b[0;31m---------------------------------------------------------------------------\u001b[0m",
            "\u001b[0;31mNameError\u001b[0m                                 Traceback (most recent call last)",
            "\u001b[0;32m<ipython-input-4-9d890906f245>\u001b[0m in \u001b[0;36m<module>\u001b[0;34m\u001b[0m\n\u001b[1;32m      2\u001b[0m \u001b[0mlst\u001b[0m \u001b[0;34m=\u001b[0m \u001b[0;34m[\u001b[0m\u001b[0mi\u001b[0m \u001b[0;32mfor\u001b[0m \u001b[0mi\u001b[0m \u001b[0;32min\u001b[0m \u001b[0mname\u001b[0m\u001b[0;34m]\u001b[0m\u001b[0;34m\u001b[0m\u001b[0;34m\u001b[0m\u001b[0m\n\u001b[1;32m      3\u001b[0m \u001b[0mprint\u001b[0m\u001b[0;34m(\u001b[0m\u001b[0mlst\u001b[0m\u001b[0;34m)\u001b[0m\u001b[0;34m\u001b[0m\u001b[0;34m\u001b[0m\u001b[0m\n\u001b[0;32m----> 4\u001b[0;31m \u001b[0mprint\u001b[0m\u001b[0;34m(\u001b[0m \u001b[0mname\u001b[0m\u001b[0;34m(\u001b[0m\u001b[0mmax\u001b[0m\u001b[0;34m(\u001b[0m\u001b[0mcount\u001b[0m\u001b[0;34m)\u001b[0m\u001b[0;34m)\u001b[0m\u001b[0;34m)\u001b[0m\u001b[0;34m\u001b[0m\u001b[0;34m\u001b[0m\u001b[0m\n\u001b[0m",
            "\u001b[0;31mNameError\u001b[0m: name 'count' is not defined"
          ]
        }
      ]
    },
    {
      "cell_type": "code",
      "source": [
        "#count of prime number\n",
        "    \n",
        "start = int(input())\n",
        "end = int(input())\n",
        "k = 0\n",
        "for i in range (start,end+1):\n",
        "  for j in range(2,i):\n",
        "    if i%j == 0:\n",
        "      break\n",
        "  else:\n",
        "    print(i,end = \" \")\n",
        "    k = k+1\n",
        "print('\\ntotal number',k)\n",
        "\n"
      ],
      "metadata": {
        "colab": {
          "base_uri": "https://localhost:8080/"
        },
        "id": "346gKYKCT9Mr",
        "outputId": "9c5c4c8b-9ece-4c64-f23d-0306068b951a"
      },
      "execution_count": null,
      "outputs": [
        {
          "output_type": "stream",
          "name": "stdout",
          "text": [
            "1\n",
            "10\n",
            "1 2 3 5 7 \n",
            "total number 5\n"
          ]
        }
      ]
    },
    {
      "cell_type": "code",
      "source": [
        "l1 = []\n",
        "num1 = int(input('Enter size of list 1: '))\n",
        "for n in range(num1):\n",
        "    l1.append(int(input()))\n",
        " \n",
        "l2 = []\n",
        "num2 = int(input('Enter size of list 2:'))\n",
        "for n in range(num2):\n",
        "    numbers2 = int(input('Enter any number:'))\n",
        "    l2.append(numbers2)\n",
        " \n",
        "union = list(set().union(l1,l2))\n",
        " \n",
        "print('The Union of two lists is:',union)"
      ],
      "metadata": {
        "id": "5ehn8eLuXirn",
        "colab": {
          "base_uri": "https://localhost:8080/"
        },
        "outputId": "575dfc12-c311-4c80-f514-be5cc6add052"
      },
      "execution_count": null,
      "outputs": [
        {
          "output_type": "stream",
          "name": "stdout",
          "text": [
            "Enter size of list 1: 2\n",
            "4\n",
            "2\n",
            "Enter size of list 2:2\n",
            "Enter any number:2\n",
            "Enter any number:4\n",
            "The Union of two lists is: [2, 4]\n"
          ]
        }
      ]
    },
    {
      "cell_type": "code",
      "source": [
        "a=int(input(\"Enter the first number of the series \"))\n",
        "b=int(input(\"Enter the second number of the series \"))\n",
        "n=int(input(\"Enter the number of terms needed \"))\n",
        "print(a,b,end=\" \")\n",
        "while(n-2):\n",
        "    c=a+b\n",
        "    a=b\n",
        "    b=c\n",
        "    print(c,end=\" \")\n",
        "    n=n-1"
      ],
      "metadata": {
        "id": "AAv_qqmbFuEj"
      },
      "execution_count": null,
      "outputs": []
    },
    {
      "cell_type": "code",
      "source": [
        "lst = [2,5,4,2,3,6,4,2,58,2,3,69,1,3,5,6,7]\n",
        "even_l =[]\n",
        "odd_l=[]\n",
        "for i in lst:\n",
        "  if i%2 == 0:\n",
        "    even_l.append(i)\n",
        "  else:\n",
        "    odd_l.append(i)\n",
        "print(even_l)\n",
        "print(odd_l)"
      ],
      "metadata": {
        "id": "q3ySh_I5UpUg",
        "colab": {
          "base_uri": "https://localhost:8080/"
        },
        "outputId": "9b1e1957-b6f7-4005-fa41-2ab3d2eb3202"
      },
      "execution_count": null,
      "outputs": [
        {
          "output_type": "stream",
          "name": "stdout",
          "text": [
            "[2, 4, 2, 6, 4, 2, 58, 2, 6]\n",
            "[5, 3, 3, 69, 1, 3, 5, 7]\n"
          ]
        }
      ]
    },
    {
      "cell_type": "code",
      "source": [
        "# plaindrome\n",
        "\n",
        "a = input()\n",
        "if a == a[::-1]:\n",
        "  print('palindrome')\n",
        "else:\n",
        "  print('not palindrome')\n"
      ],
      "metadata": {
        "colab": {
          "base_uri": "https://localhost:8080/"
        },
        "id": "mUNccGs-YzyR",
        "outputId": "8e14b5d3-00fc-4a7a-a52a-13b8571abb16"
      },
      "execution_count": null,
      "outputs": [
        {
          "output_type": "stream",
          "name": "stdout",
          "text": [
            "radar\n",
            "palindrome\n"
          ]
        }
      ]
    },
    {
      "cell_type": "code",
      "source": [],
      "metadata": {
        "id": "gs8eOMFhZhl9"
      },
      "execution_count": null,
      "outputs": []
    },
    {
      "cell_type": "code",
      "source": [
        "n = int(input())\n",
        "k =0\n",
        "for i in range(2,n+1):\n",
        "  if n%i == 0:\n",
        "    print('not prime')\n",
        "    break\n",
        "else:\n",
        "  print('prime')\n",
        "  k = k+1\n",
        "  print('total prime',k)"
      ],
      "metadata": {
        "colab": {
          "base_uri": "https://localhost:8080/"
        },
        "id": "nqTn4sbjZykp",
        "outputId": "2a9238ee-13c7-4780-cfcc-1e7e331a86a1"
      },
      "execution_count": null,
      "outputs": [
        {
          "output_type": "stream",
          "name": "stdout",
          "text": [
            "5\n",
            "not prime\n"
          ]
        }
      ]
    },
    {
      "cell_type": "code",
      "source": [
        "a=int(input(\"Enter the first number of the series \"))\n",
        "b=int(input(\"Enter the second number of the series \"))\n",
        "n=int(input(\"Enter the number of terms needed \"))\n",
        "while(n-2):\n",
        "    c=a+b\n",
        "    a=b\n",
        "    b=c\n",
        "    print(c,end=\" \")\n",
        "    n=n-1"
      ],
      "metadata": {
        "colab": {
          "base_uri": "https://localhost:8080/"
        },
        "id": "GJMEPYV4-RZK",
        "outputId": "94ee237e-cb1c-41c1-a68c-61244ab59c27"
      },
      "execution_count": null,
      "outputs": [
        {
          "output_type": "stream",
          "name": "stdout",
          "text": [
            "Enter the first number of the series 0\n",
            "Enter the second number of the series 1\n",
            "Enter the number of terms needed 8\n",
            "1 2 3 5 8 13 "
          ]
        }
      ]
    },
    {
      "cell_type": "markdown",
      "source": [],
      "metadata": {
        "id": "klVObjyMNQoy"
      }
    },
    {
      "cell_type": "code",
      "source": [
        "def sum(a,b):\n",
        "  return a+b\n",
        "\n",
        "x=9\n",
        "y=8\n",
        "\n",
        "print(sum(x,y))"
      ],
      "metadata": {
        "id": "BOq5Z0_j-r9s",
        "colab": {
          "base_uri": "https://localhost:8080/"
        },
        "outputId": "d70dd046-b6a8-4e83-9b84-5e3e036f0658"
      },
      "execution_count": null,
      "outputs": [
        {
          "output_type": "stream",
          "name": "stdout",
          "text": [
            "17\n"
          ]
        }
      ]
    },
    {
      "cell_type": "code",
      "source": [
        "print(\"Input the value of a, b, c, d, e, f:\")\n",
        "a, b, c, d, e, f = map(float, input().split())\n",
        "n = a*e - b*d\n",
        "print(\"Values of x and y:\")\n",
        "if n != 0:\n",
        "    x = (c*e - b*f) / n\n",
        "    y = (a*f - c*d) / n\n",
        "    print('{:.3f} {:.3f}'.format(x+0, y+0))\n"
      ],
      "metadata": {
        "id": "lvHAoR8yr-0Y",
        "colab": {
          "base_uri": "https://localhost:8080/"
        },
        "outputId": "3439c5e2-0e4a-4641-e7fd-2658e6d6d929"
      },
      "execution_count": null,
      "outputs": [
        {
          "output_type": "stream",
          "name": "stdout",
          "text": [
            "Input the value of a, b, c, d, e, f:\n",
            "5 8 6 7 9 4\n",
            "Values of x and y:\n",
            "-2.000 2.000\n"
          ]
        }
      ]
    },
    {
      "cell_type": "code",
      "source": [
        "\n",
        "# Python 3 code to demonstrate\n",
        "# Maximum frequency character in String\n",
        "# naive method\n",
        " \n",
        "# initializing string\n",
        "test_str = \"GeeksforGeeks\"\n",
        " \n",
        "# printing original string\n",
        "print (\"The original string is : \" + test_str)\n",
        " \n",
        "# using naive method to get\n",
        "# Maximum frequency character in String\n",
        "all_freq = {}\n",
        "for i in test_str:\n",
        " if i in all_freq:\n",
        "  all_freq[i] += 1\n",
        " else:\n",
        "  all_freq[i] = 1\n",
        "res = max(all_freq, key = all_freq.get)\n",
        " \n",
        "# printing result\n",
        "print(\"The maximum of all characters in GeeksforGeeks is : \" + str(res))"
      ],
      "metadata": {
        "id": "SOt2klUNE1oO",
        "colab": {
          "base_uri": "https://localhost:8080/"
        },
        "outputId": "31b5c7af-da07-4af1-cfc6-cad802426a72"
      },
      "execution_count": null,
      "outputs": [
        {
          "output_type": "stream",
          "name": "stdout",
          "text": [
            "The original string is : GeeksforGeeks\n",
            "The maximum of all characters in GeeksforGeeks is : e\n"
          ]
        }
      ]
    },
    {
      "cell_type": "code",
      "source": [
        "Tv = {'BreakingBad':100, 'GameOfThrones':1292, 'TMKUC' : 88}"
      ],
      "metadata": {
        "id": "XiFCqizs6UK6"
      },
      "execution_count": null,
      "outputs": []
    },
    {
      "cell_type": "code",
      "source": [
        "Keymax = max(zip(Tv.values(), Tv.keys()))\n",
        "print(Keymax)"
      ],
      "metadata": {
        "colab": {
          "base_uri": "https://localhost:8080/"
        },
        "id": "NWEONFM66XsL",
        "outputId": "0d90493c-5d06-4f89-f344-6fc9d7b58259"
      },
      "execution_count": null,
      "outputs": [
        {
          "output_type": "stream",
          "name": "stdout",
          "text": [
            "(1292, 'GameOfThrones')\n"
          ]
        }
      ]
    },
    {
      "cell_type": "code",
      "source": [
        "n = input()\n",
        "if n == n[::-1]:\n",
        "  print('palindrome')\n",
        "else:\n",
        "  print('no')"
      ],
      "metadata": {
        "colab": {
          "base_uri": "https://localhost:8080/"
        },
        "id": "Tgnb6fmR651Y",
        "outputId": "3fc89ce0-8026-4406-e8fa-6fbb34eb56c1"
      },
      "execution_count": null,
      "outputs": [
        {
          "output_type": "stream",
          "name": "stdout",
          "text": [
            "radar\n",
            "palindrome\n"
          ]
        }
      ]
    },
    {
      "cell_type": "code",
      "source": [
        "#sum of dict\n",
        "d={'A':100,'B':540,'C':239}\n",
        "print(\"Total sum of values in the dictionary:\")\n",
        "print(sum(d.values()))\n"
      ],
      "metadata": {
        "id": "gcWj98Yh7Q4f",
        "colab": {
          "base_uri": "https://localhost:8080/"
        },
        "outputId": "f5ad45a2-19a4-449b-88da-57f0fd75e3b0"
      },
      "execution_count": 1,
      "outputs": [
        {
          "output_type": "stream",
          "name": "stdout",
          "text": [
            "Total sum of values in the dictionary:\n",
            "879\n"
          ]
        }
      ]
    },
    {
      "cell_type": "code",
      "source": [
        "# multiplication in dict\n",
        "d={'A':10,'B':10,'C':239}\n",
        "tot=1\n",
        "for i in d:    \n",
        "    tot=tot*d[i]\n",
        "print(tot)"
      ],
      "metadata": {
        "id": "nvdqh5CGCuPM",
        "colab": {
          "base_uri": "https://localhost:8080/"
        },
        "outputId": "e38cea6d-2826-4628-ca6b-6f516da57e1c"
      },
      "execution_count": 3,
      "outputs": [
        {
          "output_type": "stream",
          "name": "stdout",
          "text": [
            "23900\n"
          ]
        }
      ]
    },
    {
      "cell_type": "code",
      "source": [
        " # to map two lists into a dictionary\n",
        "keys=[]\n",
        "values=[]\n",
        "n=int(input(\"Enter number of elements for dictionary:\"))\n",
        "print(\"For keys:\")\n",
        "for x in range(0,n):\n",
        "    element=int(input(\"Enter element\" + str(x+1) + \":\"))\n",
        "    keys.append(element)\n",
        "print(\"For values:\")\n",
        "for x in range(0,n):\n",
        "    element=int(input(\"Enter element\" + str(x+1) + \":\"))\n",
        "    values.append(element)\n",
        "d=dict(zip(keys,values))\n",
        "print(\"The dictionary is:\")\n",
        "print(d)"
      ],
      "metadata": {
        "colab": {
          "base_uri": "https://localhost:8080/"
        },
        "id": "Y8AeXN_dpJo1",
        "outputId": "878064c0-d956-4afa-eeef-dacda42a293e"
      },
      "execution_count": 7,
      "outputs": [
        {
          "output_type": "stream",
          "name": "stdout",
          "text": [
            "Enter number of elements for dictionary:3\n",
            "For keys:\n",
            "Enter element1:1\n",
            "Enter element2:2\n",
            "Enter element3:3\n",
            "For values:\n",
            "Enter element1:5\n",
            "Enter element2:6\n",
            "Enter element3:9\n",
            "The dictionary is:\n",
            "{1: 5, 2: 6, 3: 9}\n"
          ]
        }
      ]
    },
    {
      "cell_type": "code",
      "source": [
        "name = ['praj','ram']\n",
        "marks = [100,88]\n",
        "d=dict(zip(name,marks))\n",
        "print(d)"
      ],
      "metadata": {
        "colab": {
          "base_uri": "https://localhost:8080/"
        },
        "id": "HF2lwJmqplsg",
        "outputId": "625e471e-edc8-4153-85f8-4b09d0dda2d3"
      },
      "execution_count": 8,
      "outputs": [
        {
          "output_type": "stream",
          "name": "stdout",
          "text": [
            "{'praj': 100, 'ram': 88}\n"
          ]
        }
      ]
    },
    {
      "cell_type": "code",
      "source": [
        "# concat two dict\n",
        "d1={'A':1,'B':2}\n",
        "d2={'C':3}\n",
        "d1.update(d2)\n",
        "print(\"Concatenated dictionary is:\")\n",
        "print(d1)"
      ],
      "metadata": {
        "colab": {
          "base_uri": "https://localhost:8080/"
        },
        "id": "_UqMJGP6qTHA",
        "outputId": "1d7bd445-cf52-4367-f9be-33302572aa4e"
      },
      "execution_count": 9,
      "outputs": [
        {
          "output_type": "stream",
          "name": "stdout",
          "text": [
            "Concatenated dictionary is:\n",
            "{'A': 1, 'B': 2, 'C': 3}\n"
          ]
        }
      ]
    },
    {
      "cell_type": "code",
      "source": [
        "#to check if a given key exists in a dictionary\n",
        "d={'A':4,'B':2,'C':3}\n",
        "key=input(\"Enter key to check:\")\n",
        "if key in d.keys():\n",
        "      print(\"Key is present and value of the key is:\")\n",
        "      print(d[key])\n",
        "else:\n",
        "      print(\"Key isn't present!\")"
      ],
      "metadata": {
        "colab": {
          "base_uri": "https://localhost:8080/"
        },
        "id": "WqjySO6ErHoK",
        "outputId": "c0bc75d9-7783-435b-d222-fd22131f70ce"
      },
      "execution_count": 12,
      "outputs": [
        {
          "output_type": "stream",
          "name": "stdout",
          "text": [
            "Enter key to check:A\n",
            "Key is present and value of the key is:\n",
            "4\n"
          ]
        }
      ]
    },
    {
      "cell_type": "code",
      "source": [
        "d={'A':4,'B':2,'C':3}\n",
        "print(d['A'])"
      ],
      "metadata": {
        "colab": {
          "base_uri": "https://localhost:8080/"
        },
        "id": "1UszzD4nrRn8",
        "outputId": "e994d43c-35e0-4e97-8b87-6c94f2abc808"
      },
      "execution_count": 17,
      "outputs": [
        {
          "output_type": "stream",
          "name": "stdout",
          "text": [
            "4\n"
          ]
        }
      ]
    },
    {
      "cell_type": "code",
      "source": [],
      "metadata": {
        "id": "CZpuc5GlrfpW"
      },
      "execution_count": null,
      "outputs": []
    }
  ]
}